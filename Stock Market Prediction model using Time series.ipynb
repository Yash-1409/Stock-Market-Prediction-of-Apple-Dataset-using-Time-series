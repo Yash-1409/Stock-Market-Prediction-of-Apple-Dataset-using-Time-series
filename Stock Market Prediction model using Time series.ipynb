{
 "cells": [
  {
   "cell_type": "markdown",
   "id": "5c559b33-3523-4012-8029-981767ef1dbb",
   "metadata": {},
   "source": [
    "# Stock Market Prediction of Apple Dataset using Time series"
   ]
  },
  {
   "cell_type": "code",
   "execution_count": 1,
   "id": "28ca3ebf-c05f-44f1-87d8-b0960bb477ac",
   "metadata": {},
   "outputs": [],
   "source": [
    "import pandas as pd\n",
    "import numpy as np\n",
    "import seaborn as sns \n",
    "import matplotlib.pyplot as plt"
   ]
  },
  {
   "cell_type": "code",
   "execution_count": 2,
   "id": "adeefbdf-b3cc-4b12-85e6-e6af96330a7d",
   "metadata": {},
   "outputs": [],
   "source": [
    "Date=pd.date_range('dec 21 2017',periods=1257,freq='d')\n",
    "Date=pd.DataFrame(Date)"
   ]
  },
  {
   "cell_type": "code",
   "execution_count": 3,
   "id": "0799069a-75f5-488e-b532-336729a9adb2",
   "metadata": {},
   "outputs": [],
   "source": [
    "Date.rename(columns ={'0':'DATE'}, inplace = True)"
   ]
  },
  {
   "cell_type": "code",
   "execution_count": 4,
   "id": "c5e8da8c-dca9-4915-923d-702805c6af99",
   "metadata": {},
   "outputs": [],
   "source": [
    "Data=pd.read_csv('AAPL.csv')"
   ]
  },
  {
   "cell_type": "code",
   "execution_count": 5,
   "id": "a7f2f26c-65ec-45a0-94fe-f1e7b2798684",
   "metadata": {},
   "outputs": [],
   "source": [
    "Data=pd.concat([Date,Data],axis=1)"
   ]
  },
  {
   "cell_type": "code",
   "execution_count": 6,
   "id": "4a7a4089-9d78-4f22-ba34-5eb609ec819c",
   "metadata": {},
   "outputs": [
    {
     "data": {
      "text/plain": [
       "(1257, 15)"
      ]
     },
     "execution_count": 6,
     "metadata": {},
     "output_type": "execute_result"
    }
   ],
   "source": [
    "Data.shape"
   ]
  },
  {
   "cell_type": "code",
   "execution_count": 7,
   "id": "209ad2e6-da3d-4534-8090-53a9a3f265e3",
   "metadata": {},
   "outputs": [
    {
     "data": {
      "text/html": [
       "<div>\n",
       "<style scoped>\n",
       "    .dataframe tbody tr th:only-of-type {\n",
       "        vertical-align: middle;\n",
       "    }\n",
       "\n",
       "    .dataframe tbody tr th {\n",
       "        vertical-align: top;\n",
       "    }\n",
       "\n",
       "    .dataframe thead th {\n",
       "        text-align: right;\n",
       "    }\n",
       "</style>\n",
       "<table border=\"1\" class=\"dataframe\">\n",
       "  <thead>\n",
       "    <tr style=\"text-align: right;\">\n",
       "      <th></th>\n",
       "      <th>0</th>\n",
       "      <th>symbol</th>\n",
       "      <th>date</th>\n",
       "      <th>close</th>\n",
       "      <th>high</th>\n",
       "      <th>low</th>\n",
       "      <th>open</th>\n",
       "      <th>volume</th>\n",
       "      <th>adjClose</th>\n",
       "      <th>adjHigh</th>\n",
       "      <th>adjLow</th>\n",
       "      <th>adjOpen</th>\n",
       "      <th>adjVolume</th>\n",
       "      <th>divCash</th>\n",
       "      <th>splitFactor</th>\n",
       "    </tr>\n",
       "  </thead>\n",
       "  <tbody>\n",
       "    <tr>\n",
       "      <th>0</th>\n",
       "      <td>2017-12-21</td>\n",
       "      <td>AAPL</td>\n",
       "      <td>2017-12-21 00:00:00+00:00</td>\n",
       "      <td>175.01</td>\n",
       "      <td>176.02</td>\n",
       "      <td>174.10</td>\n",
       "      <td>174.17</td>\n",
       "      <td>20356826</td>\n",
       "      <td>41.602321</td>\n",
       "      <td>41.842412</td>\n",
       "      <td>41.386002</td>\n",
       "      <td>41.402642</td>\n",
       "      <td>81427304</td>\n",
       "      <td>0.0</td>\n",
       "      <td>1.0</td>\n",
       "    </tr>\n",
       "    <tr>\n",
       "      <th>1</th>\n",
       "      <td>2017-12-22</td>\n",
       "      <td>AAPL</td>\n",
       "      <td>2017-12-22 00:00:00+00:00</td>\n",
       "      <td>175.01</td>\n",
       "      <td>175.42</td>\n",
       "      <td>174.50</td>\n",
       "      <td>174.68</td>\n",
       "      <td>16052615</td>\n",
       "      <td>41.602321</td>\n",
       "      <td>41.699784</td>\n",
       "      <td>41.481087</td>\n",
       "      <td>41.523876</td>\n",
       "      <td>64210460</td>\n",
       "      <td>0.0</td>\n",
       "      <td>1.0</td>\n",
       "    </tr>\n",
       "    <tr>\n",
       "      <th>2</th>\n",
       "      <td>2017-12-23</td>\n",
       "      <td>AAPL</td>\n",
       "      <td>2017-12-26 00:00:00+00:00</td>\n",
       "      <td>170.57</td>\n",
       "      <td>171.47</td>\n",
       "      <td>169.68</td>\n",
       "      <td>170.80</td>\n",
       "      <td>32968167</td>\n",
       "      <td>40.546871</td>\n",
       "      <td>40.760814</td>\n",
       "      <td>40.335306</td>\n",
       "      <td>40.601546</td>\n",
       "      <td>131872668</td>\n",
       "      <td>0.0</td>\n",
       "      <td>1.0</td>\n",
       "    </tr>\n",
       "    <tr>\n",
       "      <th>3</th>\n",
       "      <td>2017-12-24</td>\n",
       "      <td>AAPL</td>\n",
       "      <td>2017-12-27 00:00:00+00:00</td>\n",
       "      <td>170.60</td>\n",
       "      <td>170.78</td>\n",
       "      <td>169.71</td>\n",
       "      <td>170.10</td>\n",
       "      <td>21672062</td>\n",
       "      <td>40.554003</td>\n",
       "      <td>40.596791</td>\n",
       "      <td>40.342437</td>\n",
       "      <td>40.435146</td>\n",
       "      <td>86688248</td>\n",
       "      <td>0.0</td>\n",
       "      <td>1.0</td>\n",
       "    </tr>\n",
       "    <tr>\n",
       "      <th>4</th>\n",
       "      <td>2017-12-25</td>\n",
       "      <td>AAPL</td>\n",
       "      <td>2017-12-28 00:00:00+00:00</td>\n",
       "      <td>171.08</td>\n",
       "      <td>171.85</td>\n",
       "      <td>170.48</td>\n",
       "      <td>171.00</td>\n",
       "      <td>15997739</td>\n",
       "      <td>40.668105</td>\n",
       "      <td>40.851145</td>\n",
       "      <td>40.525477</td>\n",
       "      <td>40.649088</td>\n",
       "      <td>63990956</td>\n",
       "      <td>0.0</td>\n",
       "      <td>1.0</td>\n",
       "    </tr>\n",
       "  </tbody>\n",
       "</table>\n",
       "</div>"
      ],
      "text/plain": [
       "           0 symbol                       date   close    high     low  \\\n",
       "0 2017-12-21   AAPL  2017-12-21 00:00:00+00:00  175.01  176.02  174.10   \n",
       "1 2017-12-22   AAPL  2017-12-22 00:00:00+00:00  175.01  175.42  174.50   \n",
       "2 2017-12-23   AAPL  2017-12-26 00:00:00+00:00  170.57  171.47  169.68   \n",
       "3 2017-12-24   AAPL  2017-12-27 00:00:00+00:00  170.60  170.78  169.71   \n",
       "4 2017-12-25   AAPL  2017-12-28 00:00:00+00:00  171.08  171.85  170.48   \n",
       "\n",
       "     open    volume   adjClose    adjHigh     adjLow    adjOpen  adjVolume  \\\n",
       "0  174.17  20356826  41.602321  41.842412  41.386002  41.402642   81427304   \n",
       "1  174.68  16052615  41.602321  41.699784  41.481087  41.523876   64210460   \n",
       "2  170.80  32968167  40.546871  40.760814  40.335306  40.601546  131872668   \n",
       "3  170.10  21672062  40.554003  40.596791  40.342437  40.435146   86688248   \n",
       "4  171.00  15997739  40.668105  40.851145  40.525477  40.649088   63990956   \n",
       "\n",
       "   divCash  splitFactor  \n",
       "0      0.0          1.0  \n",
       "1      0.0          1.0  \n",
       "2      0.0          1.0  \n",
       "3      0.0          1.0  \n",
       "4      0.0          1.0  "
      ]
     },
     "execution_count": 7,
     "metadata": {},
     "output_type": "execute_result"
    }
   ],
   "source": [
    "Data.head()"
   ]
  },
  {
   "cell_type": "code",
   "execution_count": 8,
   "id": "1bc69ce2-9ef8-4821-88b6-69bdd4d15312",
   "metadata": {},
   "outputs": [
    {
     "data": {
      "text/html": [
       "<div>\n",
       "<style scoped>\n",
       "    .dataframe tbody tr th:only-of-type {\n",
       "        vertical-align: middle;\n",
       "    }\n",
       "\n",
       "    .dataframe tbody tr th {\n",
       "        vertical-align: top;\n",
       "    }\n",
       "\n",
       "    .dataframe thead th {\n",
       "        text-align: right;\n",
       "    }\n",
       "</style>\n",
       "<table border=\"1\" class=\"dataframe\">\n",
       "  <thead>\n",
       "    <tr style=\"text-align: right;\">\n",
       "      <th></th>\n",
       "      <th>0</th>\n",
       "      <th>symbol</th>\n",
       "      <th>date</th>\n",
       "      <th>close</th>\n",
       "      <th>high</th>\n",
       "      <th>low</th>\n",
       "      <th>open</th>\n",
       "      <th>volume</th>\n",
       "      <th>adjClose</th>\n",
       "      <th>adjHigh</th>\n",
       "      <th>adjLow</th>\n",
       "      <th>adjOpen</th>\n",
       "      <th>adjVolume</th>\n",
       "      <th>divCash</th>\n",
       "      <th>splitFactor</th>\n",
       "    </tr>\n",
       "  </thead>\n",
       "  <tbody>\n",
       "    <tr>\n",
       "      <th>1252</th>\n",
       "      <td>2021-05-26</td>\n",
       "      <td>AAPL</td>\n",
       "      <td>2022-12-13 00:00:00+00:00</td>\n",
       "      <td>145.47</td>\n",
       "      <td>149.9692</td>\n",
       "      <td>144.240</td>\n",
       "      <td>149.500</td>\n",
       "      <td>93886161</td>\n",
       "      <td>145.47</td>\n",
       "      <td>149.9692</td>\n",
       "      <td>144.240</td>\n",
       "      <td>149.500</td>\n",
       "      <td>93886161</td>\n",
       "      <td>0.0</td>\n",
       "      <td>1.0</td>\n",
       "    </tr>\n",
       "    <tr>\n",
       "      <th>1253</th>\n",
       "      <td>2021-05-27</td>\n",
       "      <td>AAPL</td>\n",
       "      <td>2022-12-14 00:00:00+00:00</td>\n",
       "      <td>143.21</td>\n",
       "      <td>146.6550</td>\n",
       "      <td>141.160</td>\n",
       "      <td>145.350</td>\n",
       "      <td>82291182</td>\n",
       "      <td>143.21</td>\n",
       "      <td>146.6550</td>\n",
       "      <td>141.160</td>\n",
       "      <td>145.350</td>\n",
       "      <td>82291182</td>\n",
       "      <td>0.0</td>\n",
       "      <td>1.0</td>\n",
       "    </tr>\n",
       "    <tr>\n",
       "      <th>1254</th>\n",
       "      <td>2021-05-28</td>\n",
       "      <td>AAPL</td>\n",
       "      <td>2022-12-15 00:00:00+00:00</td>\n",
       "      <td>136.50</td>\n",
       "      <td>141.8000</td>\n",
       "      <td>136.025</td>\n",
       "      <td>141.110</td>\n",
       "      <td>98931907</td>\n",
       "      <td>136.50</td>\n",
       "      <td>141.8000</td>\n",
       "      <td>136.025</td>\n",
       "      <td>141.110</td>\n",
       "      <td>98931907</td>\n",
       "      <td>0.0</td>\n",
       "      <td>1.0</td>\n",
       "    </tr>\n",
       "    <tr>\n",
       "      <th>1255</th>\n",
       "      <td>2021-05-29</td>\n",
       "      <td>AAPL</td>\n",
       "      <td>2022-12-16 00:00:00+00:00</td>\n",
       "      <td>134.51</td>\n",
       "      <td>137.6500</td>\n",
       "      <td>133.730</td>\n",
       "      <td>136.685</td>\n",
       "      <td>160156900</td>\n",
       "      <td>134.51</td>\n",
       "      <td>137.6500</td>\n",
       "      <td>133.730</td>\n",
       "      <td>136.685</td>\n",
       "      <td>160156900</td>\n",
       "      <td>0.0</td>\n",
       "      <td>1.0</td>\n",
       "    </tr>\n",
       "    <tr>\n",
       "      <th>1256</th>\n",
       "      <td>2021-05-30</td>\n",
       "      <td>AAPL</td>\n",
       "      <td>2022-12-19 00:00:00+00:00</td>\n",
       "      <td>132.37</td>\n",
       "      <td>135.2000</td>\n",
       "      <td>131.320</td>\n",
       "      <td>135.110</td>\n",
       "      <td>79592614</td>\n",
       "      <td>132.37</td>\n",
       "      <td>135.2000</td>\n",
       "      <td>131.320</td>\n",
       "      <td>135.110</td>\n",
       "      <td>79592614</td>\n",
       "      <td>0.0</td>\n",
       "      <td>1.0</td>\n",
       "    </tr>\n",
       "  </tbody>\n",
       "</table>\n",
       "</div>"
      ],
      "text/plain": [
       "              0 symbol                       date   close      high      low  \\\n",
       "1252 2021-05-26   AAPL  2022-12-13 00:00:00+00:00  145.47  149.9692  144.240   \n",
       "1253 2021-05-27   AAPL  2022-12-14 00:00:00+00:00  143.21  146.6550  141.160   \n",
       "1254 2021-05-28   AAPL  2022-12-15 00:00:00+00:00  136.50  141.8000  136.025   \n",
       "1255 2021-05-29   AAPL  2022-12-16 00:00:00+00:00  134.51  137.6500  133.730   \n",
       "1256 2021-05-30   AAPL  2022-12-19 00:00:00+00:00  132.37  135.2000  131.320   \n",
       "\n",
       "         open     volume  adjClose   adjHigh   adjLow  adjOpen  adjVolume  \\\n",
       "1252  149.500   93886161    145.47  149.9692  144.240  149.500   93886161   \n",
       "1253  145.350   82291182    143.21  146.6550  141.160  145.350   82291182   \n",
       "1254  141.110   98931907    136.50  141.8000  136.025  141.110   98931907   \n",
       "1255  136.685  160156900    134.51  137.6500  133.730  136.685  160156900   \n",
       "1256  135.110   79592614    132.37  135.2000  131.320  135.110   79592614   \n",
       "\n",
       "      divCash  splitFactor  \n",
       "1252      0.0          1.0  \n",
       "1253      0.0          1.0  \n",
       "1254      0.0          1.0  \n",
       "1255      0.0          1.0  \n",
       "1256      0.0          1.0  "
      ]
     },
     "execution_count": 8,
     "metadata": {},
     "output_type": "execute_result"
    }
   ],
   "source": [
    "Data.tail()"
   ]
  },
  {
   "cell_type": "code",
   "execution_count": 9,
   "id": "39907ff0-9d9b-41af-9b44-ab359993db98",
   "metadata": {},
   "outputs": [
    {
     "name": "stdout",
     "output_type": "stream",
     "text": [
      "<class 'pandas.core.frame.DataFrame'>\n",
      "RangeIndex: 1257 entries, 0 to 1256\n",
      "Data columns (total 15 columns):\n",
      " #   Column       Non-Null Count  Dtype         \n",
      "---  ------       --------------  -----         \n",
      " 0   0            1257 non-null   datetime64[ns]\n",
      " 1   symbol       1257 non-null   object        \n",
      " 2   date         1257 non-null   object        \n",
      " 3   close        1257 non-null   float64       \n",
      " 4   high         1257 non-null   float64       \n",
      " 5   low          1257 non-null   float64       \n",
      " 6   open         1257 non-null   float64       \n",
      " 7   volume       1257 non-null   int64         \n",
      " 8   adjClose     1257 non-null   float64       \n",
      " 9   adjHigh      1257 non-null   float64       \n",
      " 10  adjLow       1257 non-null   float64       \n",
      " 11  adjOpen      1257 non-null   float64       \n",
      " 12  adjVolume    1257 non-null   int64         \n",
      " 13  divCash      1257 non-null   float64       \n",
      " 14  splitFactor  1257 non-null   float64       \n",
      "dtypes: datetime64[ns](1), float64(10), int64(2), object(2)\n",
      "memory usage: 147.4+ KB\n"
     ]
    }
   ],
   "source": [
    "Data.info()"
   ]
  },
  {
   "cell_type": "code",
   "execution_count": 10,
   "id": "4f9c950f-7270-4c07-b7db-850d7556952a",
   "metadata": {},
   "outputs": [
    {
     "data": {
      "text/plain": [
       "0              0\n",
       "symbol         0\n",
       "date           0\n",
       "close          0\n",
       "high           0\n",
       "low            0\n",
       "open           0\n",
       "volume         0\n",
       "adjClose       0\n",
       "adjHigh        0\n",
       "adjLow         0\n",
       "adjOpen        0\n",
       "adjVolume      0\n",
       "divCash        0\n",
       "splitFactor    0\n",
       "dtype: int64"
      ]
     },
     "execution_count": 10,
     "metadata": {},
     "output_type": "execute_result"
    }
   ],
   "source": [
    "Data.isnull().sum()"
   ]
  },
  {
   "cell_type": "code",
   "execution_count": 19,
   "id": "5ed57f21-12fe-4f01-8e03-768d8d500bd6",
   "metadata": {},
   "outputs": [
    {
     "data": {
      "text/html": [
       "<div>\n",
       "<style scoped>\n",
       "    .dataframe tbody tr th:only-of-type {\n",
       "        vertical-align: middle;\n",
       "    }\n",
       "\n",
       "    .dataframe tbody tr th {\n",
       "        vertical-align: top;\n",
       "    }\n",
       "\n",
       "    .dataframe thead th {\n",
       "        text-align: right;\n",
       "    }\n",
       "</style>\n",
       "<table border=\"1\" class=\"dataframe\">\n",
       "  <thead>\n",
       "    <tr style=\"text-align: right;\">\n",
       "      <th></th>\n",
       "      <th>symbol</th>\n",
       "      <th>date</th>\n",
       "      <th>close</th>\n",
       "      <th>high</th>\n",
       "      <th>low</th>\n",
       "      <th>open</th>\n",
       "      <th>volume</th>\n",
       "      <th>adjClose</th>\n",
       "      <th>adjHigh</th>\n",
       "      <th>adjLow</th>\n",
       "      <th>adjOpen</th>\n",
       "      <th>adjVolume</th>\n",
       "      <th>divCash</th>\n",
       "      <th>splitFactor</th>\n",
       "    </tr>\n",
       "    <tr>\n",
       "      <th>0</th>\n",
       "      <th></th>\n",
       "      <th></th>\n",
       "      <th></th>\n",
       "      <th></th>\n",
       "      <th></th>\n",
       "      <th></th>\n",
       "      <th></th>\n",
       "      <th></th>\n",
       "      <th></th>\n",
       "      <th></th>\n",
       "      <th></th>\n",
       "      <th></th>\n",
       "      <th></th>\n",
       "      <th></th>\n",
       "    </tr>\n",
       "  </thead>\n",
       "  <tbody>\n",
       "    <tr>\n",
       "      <th>2017-12-21</th>\n",
       "      <td>AAPL</td>\n",
       "      <td>2017-12-21 00:00:00+00:00</td>\n",
       "      <td>175.01</td>\n",
       "      <td>176.0200</td>\n",
       "      <td>174.100</td>\n",
       "      <td>174.170</td>\n",
       "      <td>20356826</td>\n",
       "      <td>41.602321</td>\n",
       "      <td>41.842412</td>\n",
       "      <td>41.386002</td>\n",
       "      <td>41.402642</td>\n",
       "      <td>81427304</td>\n",
       "      <td>0.0</td>\n",
       "      <td>1.0</td>\n",
       "    </tr>\n",
       "    <tr>\n",
       "      <th>2017-12-22</th>\n",
       "      <td>AAPL</td>\n",
       "      <td>2017-12-22 00:00:00+00:00</td>\n",
       "      <td>175.01</td>\n",
       "      <td>175.4200</td>\n",
       "      <td>174.500</td>\n",
       "      <td>174.680</td>\n",
       "      <td>16052615</td>\n",
       "      <td>41.602321</td>\n",
       "      <td>41.699784</td>\n",
       "      <td>41.481087</td>\n",
       "      <td>41.523876</td>\n",
       "      <td>64210460</td>\n",
       "      <td>0.0</td>\n",
       "      <td>1.0</td>\n",
       "    </tr>\n",
       "    <tr>\n",
       "      <th>2017-12-23</th>\n",
       "      <td>AAPL</td>\n",
       "      <td>2017-12-26 00:00:00+00:00</td>\n",
       "      <td>170.57</td>\n",
       "      <td>171.4700</td>\n",
       "      <td>169.680</td>\n",
       "      <td>170.800</td>\n",
       "      <td>32968167</td>\n",
       "      <td>40.546871</td>\n",
       "      <td>40.760814</td>\n",
       "      <td>40.335306</td>\n",
       "      <td>40.601546</td>\n",
       "      <td>131872668</td>\n",
       "      <td>0.0</td>\n",
       "      <td>1.0</td>\n",
       "    </tr>\n",
       "    <tr>\n",
       "      <th>2017-12-24</th>\n",
       "      <td>AAPL</td>\n",
       "      <td>2017-12-27 00:00:00+00:00</td>\n",
       "      <td>170.60</td>\n",
       "      <td>170.7800</td>\n",
       "      <td>169.710</td>\n",
       "      <td>170.100</td>\n",
       "      <td>21672062</td>\n",
       "      <td>40.554003</td>\n",
       "      <td>40.596791</td>\n",
       "      <td>40.342437</td>\n",
       "      <td>40.435146</td>\n",
       "      <td>86688248</td>\n",
       "      <td>0.0</td>\n",
       "      <td>1.0</td>\n",
       "    </tr>\n",
       "    <tr>\n",
       "      <th>2017-12-25</th>\n",
       "      <td>AAPL</td>\n",
       "      <td>2017-12-28 00:00:00+00:00</td>\n",
       "      <td>171.08</td>\n",
       "      <td>171.8500</td>\n",
       "      <td>170.480</td>\n",
       "      <td>171.000</td>\n",
       "      <td>15997739</td>\n",
       "      <td>40.668105</td>\n",
       "      <td>40.851145</td>\n",
       "      <td>40.525477</td>\n",
       "      <td>40.649088</td>\n",
       "      <td>63990956</td>\n",
       "      <td>0.0</td>\n",
       "      <td>1.0</td>\n",
       "    </tr>\n",
       "    <tr>\n",
       "      <th>...</th>\n",
       "      <td>...</td>\n",
       "      <td>...</td>\n",
       "      <td>...</td>\n",
       "      <td>...</td>\n",
       "      <td>...</td>\n",
       "      <td>...</td>\n",
       "      <td>...</td>\n",
       "      <td>...</td>\n",
       "      <td>...</td>\n",
       "      <td>...</td>\n",
       "      <td>...</td>\n",
       "      <td>...</td>\n",
       "      <td>...</td>\n",
       "      <td>...</td>\n",
       "    </tr>\n",
       "    <tr>\n",
       "      <th>2021-05-26</th>\n",
       "      <td>AAPL</td>\n",
       "      <td>2022-12-13 00:00:00+00:00</td>\n",
       "      <td>145.47</td>\n",
       "      <td>149.9692</td>\n",
       "      <td>144.240</td>\n",
       "      <td>149.500</td>\n",
       "      <td>93886161</td>\n",
       "      <td>145.470000</td>\n",
       "      <td>149.969200</td>\n",
       "      <td>144.240000</td>\n",
       "      <td>149.500000</td>\n",
       "      <td>93886161</td>\n",
       "      <td>0.0</td>\n",
       "      <td>1.0</td>\n",
       "    </tr>\n",
       "    <tr>\n",
       "      <th>2021-05-27</th>\n",
       "      <td>AAPL</td>\n",
       "      <td>2022-12-14 00:00:00+00:00</td>\n",
       "      <td>143.21</td>\n",
       "      <td>146.6550</td>\n",
       "      <td>141.160</td>\n",
       "      <td>145.350</td>\n",
       "      <td>82291182</td>\n",
       "      <td>143.210000</td>\n",
       "      <td>146.655000</td>\n",
       "      <td>141.160000</td>\n",
       "      <td>145.350000</td>\n",
       "      <td>82291182</td>\n",
       "      <td>0.0</td>\n",
       "      <td>1.0</td>\n",
       "    </tr>\n",
       "    <tr>\n",
       "      <th>2021-05-28</th>\n",
       "      <td>AAPL</td>\n",
       "      <td>2022-12-15 00:00:00+00:00</td>\n",
       "      <td>136.50</td>\n",
       "      <td>141.8000</td>\n",
       "      <td>136.025</td>\n",
       "      <td>141.110</td>\n",
       "      <td>98931907</td>\n",
       "      <td>136.500000</td>\n",
       "      <td>141.800000</td>\n",
       "      <td>136.025000</td>\n",
       "      <td>141.110000</td>\n",
       "      <td>98931907</td>\n",
       "      <td>0.0</td>\n",
       "      <td>1.0</td>\n",
       "    </tr>\n",
       "    <tr>\n",
       "      <th>2021-05-29</th>\n",
       "      <td>AAPL</td>\n",
       "      <td>2022-12-16 00:00:00+00:00</td>\n",
       "      <td>134.51</td>\n",
       "      <td>137.6500</td>\n",
       "      <td>133.730</td>\n",
       "      <td>136.685</td>\n",
       "      <td>160156900</td>\n",
       "      <td>134.510000</td>\n",
       "      <td>137.650000</td>\n",
       "      <td>133.730000</td>\n",
       "      <td>136.685000</td>\n",
       "      <td>160156900</td>\n",
       "      <td>0.0</td>\n",
       "      <td>1.0</td>\n",
       "    </tr>\n",
       "    <tr>\n",
       "      <th>2021-05-30</th>\n",
       "      <td>AAPL</td>\n",
       "      <td>2022-12-19 00:00:00+00:00</td>\n",
       "      <td>132.37</td>\n",
       "      <td>135.2000</td>\n",
       "      <td>131.320</td>\n",
       "      <td>135.110</td>\n",
       "      <td>79592614</td>\n",
       "      <td>132.370000</td>\n",
       "      <td>135.200000</td>\n",
       "      <td>131.320000</td>\n",
       "      <td>135.110000</td>\n",
       "      <td>79592614</td>\n",
       "      <td>0.0</td>\n",
       "      <td>1.0</td>\n",
       "    </tr>\n",
       "  </tbody>\n",
       "</table>\n",
       "<p>1257 rows × 14 columns</p>\n",
       "</div>"
      ],
      "text/plain": [
       "           symbol                       date   close      high      low  \\\n",
       "0                                                                         \n",
       "2017-12-21   AAPL  2017-12-21 00:00:00+00:00  175.01  176.0200  174.100   \n",
       "2017-12-22   AAPL  2017-12-22 00:00:00+00:00  175.01  175.4200  174.500   \n",
       "2017-12-23   AAPL  2017-12-26 00:00:00+00:00  170.57  171.4700  169.680   \n",
       "2017-12-24   AAPL  2017-12-27 00:00:00+00:00  170.60  170.7800  169.710   \n",
       "2017-12-25   AAPL  2017-12-28 00:00:00+00:00  171.08  171.8500  170.480   \n",
       "...           ...                        ...     ...       ...      ...   \n",
       "2021-05-26   AAPL  2022-12-13 00:00:00+00:00  145.47  149.9692  144.240   \n",
       "2021-05-27   AAPL  2022-12-14 00:00:00+00:00  143.21  146.6550  141.160   \n",
       "2021-05-28   AAPL  2022-12-15 00:00:00+00:00  136.50  141.8000  136.025   \n",
       "2021-05-29   AAPL  2022-12-16 00:00:00+00:00  134.51  137.6500  133.730   \n",
       "2021-05-30   AAPL  2022-12-19 00:00:00+00:00  132.37  135.2000  131.320   \n",
       "\n",
       "               open     volume    adjClose     adjHigh      adjLow  \\\n",
       "0                                                                    \n",
       "2017-12-21  174.170   20356826   41.602321   41.842412   41.386002   \n",
       "2017-12-22  174.680   16052615   41.602321   41.699784   41.481087   \n",
       "2017-12-23  170.800   32968167   40.546871   40.760814   40.335306   \n",
       "2017-12-24  170.100   21672062   40.554003   40.596791   40.342437   \n",
       "2017-12-25  171.000   15997739   40.668105   40.851145   40.525477   \n",
       "...             ...        ...         ...         ...         ...   \n",
       "2021-05-26  149.500   93886161  145.470000  149.969200  144.240000   \n",
       "2021-05-27  145.350   82291182  143.210000  146.655000  141.160000   \n",
       "2021-05-28  141.110   98931907  136.500000  141.800000  136.025000   \n",
       "2021-05-29  136.685  160156900  134.510000  137.650000  133.730000   \n",
       "2021-05-30  135.110   79592614  132.370000  135.200000  131.320000   \n",
       "\n",
       "               adjOpen  adjVolume  divCash  splitFactor  \n",
       "0                                                        \n",
       "2017-12-21   41.402642   81427304      0.0          1.0  \n",
       "2017-12-22   41.523876   64210460      0.0          1.0  \n",
       "2017-12-23   40.601546  131872668      0.0          1.0  \n",
       "2017-12-24   40.435146   86688248      0.0          1.0  \n",
       "2017-12-25   40.649088   63990956      0.0          1.0  \n",
       "...                ...        ...      ...          ...  \n",
       "2021-05-26  149.500000   93886161      0.0          1.0  \n",
       "2021-05-27  145.350000   82291182      0.0          1.0  \n",
       "2021-05-28  141.110000   98931907      0.0          1.0  \n",
       "2021-05-29  136.685000  160156900      0.0          1.0  \n",
       "2021-05-30  135.110000   79592614      0.0          1.0  \n",
       "\n",
       "[1257 rows x 14 columns]"
      ]
     },
     "execution_count": 19,
     "metadata": {},
     "output_type": "execute_result"
    }
   ],
   "source": [
    "df=Data.set_index(0)\n",
    "df"
   ]
  },
  {
   "cell_type": "markdown",
   "id": "49716bbd-4574-43c7-b4ee-e0e431ca27bd",
   "metadata": {},
   "source": [
    "### I have to perdict Day High"
   ]
  },
  {
   "cell_type": "code",
   "execution_count": 22,
   "id": "ce69c854-db68-437c-a784-3237e8fd7735",
   "metadata": {},
   "outputs": [
    {
     "data": {
      "text/html": [
       "<div>\n",
       "<style scoped>\n",
       "    .dataframe tbody tr th:only-of-type {\n",
       "        vertical-align: middle;\n",
       "    }\n",
       "\n",
       "    .dataframe tbody tr th {\n",
       "        vertical-align: top;\n",
       "    }\n",
       "\n",
       "    .dataframe thead th {\n",
       "        text-align: right;\n",
       "    }\n",
       "</style>\n",
       "<table border=\"1\" class=\"dataframe\">\n",
       "  <thead>\n",
       "    <tr style=\"text-align: right;\">\n",
       "      <th></th>\n",
       "      <th>high</th>\n",
       "    </tr>\n",
       "    <tr>\n",
       "      <th>0</th>\n",
       "      <th></th>\n",
       "    </tr>\n",
       "  </thead>\n",
       "  <tbody>\n",
       "    <tr>\n",
       "      <th>2017-12-21</th>\n",
       "      <td>176.02</td>\n",
       "    </tr>\n",
       "    <tr>\n",
       "      <th>2017-12-22</th>\n",
       "      <td>175.42</td>\n",
       "    </tr>\n",
       "    <tr>\n",
       "      <th>2017-12-23</th>\n",
       "      <td>171.47</td>\n",
       "    </tr>\n",
       "    <tr>\n",
       "      <th>2017-12-24</th>\n",
       "      <td>170.78</td>\n",
       "    </tr>\n",
       "    <tr>\n",
       "      <th>2017-12-25</th>\n",
       "      <td>171.85</td>\n",
       "    </tr>\n",
       "  </tbody>\n",
       "</table>\n",
       "</div>"
      ],
      "text/plain": [
       "              high\n",
       "0                 \n",
       "2017-12-21  176.02\n",
       "2017-12-22  175.42\n",
       "2017-12-23  171.47\n",
       "2017-12-24  170.78\n",
       "2017-12-25  171.85"
      ]
     },
     "execution_count": 22,
     "metadata": {},
     "output_type": "execute_result"
    }
   ],
   "source": [
    "df1=pd.DataFrame(df['high'])\n",
    "df1.head()"
   ]
  },
  {
   "cell_type": "code",
   "execution_count": 23,
   "id": "068751a2-782a-417b-802a-d6ccc5d6b48a",
   "metadata": {},
   "outputs": [
    {
     "name": "stdout",
     "output_type": "stream",
     "text": [
      "<class 'pandas.core.frame.DataFrame'>\n",
      "DatetimeIndex: 1257 entries, 2017-12-21 to 2021-05-30\n",
      "Data columns (total 1 columns):\n",
      " #   Column  Non-Null Count  Dtype  \n",
      "---  ------  --------------  -----  \n",
      " 0   high    1257 non-null   float64\n",
      "dtypes: float64(1)\n",
      "memory usage: 19.6 KB\n"
     ]
    }
   ],
   "source": [
    "df1.info()"
   ]
  },
  {
   "cell_type": "code",
   "execution_count": 24,
   "id": "195b9fb2-8ea9-4720-883c-5aa2138bfe68",
   "metadata": {},
   "outputs": [
    {
     "data": {
      "image/png": "[encoded data removed]",
      "text/plain": [
       "<Figure size 1080x432 with 1 Axes>"
      ]
     },
     "metadata": {
      "needs_background": "light"
     },
     "output_type": "display_data"
    }
   ],
   "source": [
    "plt.figure(figsize=(15,6))\n",
    "df1.high.plot();"
   ]
  },
  {
   "cell_type": "code",
   "execution_count": 25,
   "id": "b616db7f-4340-4635-8501-cd7ebfa4712f",
   "metadata": {},
   "outputs": [
    {
     "data": {
      "image/png": "[encoded data removed]",
      "text/plain": [
       "<Figure size 1080x432 with 1 Axes>"
      ]
     },
     "metadata": {
      "needs_background": "light"
     },
     "output_type": "display_data"
    }
   ],
   "source": [
    "plt.figure(figsize=(15,6))\n",
    "df1.high.plot();"
   ]
  },
  {
   "cell_type": "code",
   "execution_count": 26,
   "id": "cdc68223-4c4f-4456-93e7-ca490a444d82",
   "metadata": {},
   "outputs": [
    {
     "data": {
      "image/png": "[encoded data removed]",
      "text/plain": [
       "<Figure size 864x576 with 1 Axes>"
      ]
     },
     "metadata": {
      "needs_background": "light"
     },
     "output_type": "display_data"
    }
   ],
   "source": [
    "plt.figure(figsize=(12,8))\n",
    "df1.high.plot(kind=\"hist\", bins=20);"
   ]
  },
  {
   "cell_type": "code",
   "execution_count": 27,
   "id": "84103a44-a6c6-451f-9f75-783207efab3e",
   "metadata": {},
   "outputs": [
    {
     "data": {
      "image/png": "[encoded data removed]",
      "text/plain": [
       "<Figure size 1080x432 with 1 Axes>"
      ]
     },
     "metadata": {
      "needs_background": "light"
     },
     "output_type": "display_data"
    }
   ],
   "source": [
    "plt.figure(figsize=(15,6))\n",
    "df1[\"log_high\"] = np.log(df1.high);\n",
    "df1.log_high.plot(kind=\"hist\", bins=20);"
   ]
  },
  {
   "cell_type": "code",
   "execution_count": 31,
   "id": "4b80305f-540b-4976-8b7c-e08d50f423c1",
   "metadata": {},
   "outputs": [
    {
     "data": {
      "text/html": [
       "<div>\n",
       "<style scoped>\n",
       "    .dataframe tbody tr th:only-of-type {\n",
       "        vertical-align: middle;\n",
       "    }\n",
       "\n",
       "    .dataframe tbody tr th {\n",
       "        vertical-align: top;\n",
       "    }\n",
       "\n",
       "    .dataframe thead th {\n",
       "        text-align: right;\n",
       "    }\n",
       "</style>\n",
       "<table border=\"1\" class=\"dataframe\">\n",
       "  <thead>\n",
       "    <tr style=\"text-align: right;\">\n",
       "      <th></th>\n",
       "      <th>high</th>\n",
       "      <th>log_high</th>\n",
       "      <th>df1_mean</th>\n",
       "      <th>high_mean</th>\n",
       "    </tr>\n",
       "    <tr>\n",
       "      <th>0</th>\n",
       "      <th></th>\n",
       "      <th></th>\n",
       "      <th></th>\n",
       "      <th></th>\n",
       "    </tr>\n",
       "  </thead>\n",
       "  <tbody>\n",
       "    <tr>\n",
       "      <th>2017-12-21</th>\n",
       "      <td>176.02</td>\n",
       "      <td>5.170598</td>\n",
       "      <td>183.284013</td>\n",
       "      <td>183.284013</td>\n",
       "    </tr>\n",
       "    <tr>\n",
       "      <th>2017-12-22</th>\n",
       "      <td>175.42</td>\n",
       "      <td>5.167183</td>\n",
       "      <td>183.284013</td>\n",
       "      <td>183.284013</td>\n",
       "    </tr>\n",
       "    <tr>\n",
       "      <th>2017-12-23</th>\n",
       "      <td>171.47</td>\n",
       "      <td>5.144408</td>\n",
       "      <td>183.284013</td>\n",
       "      <td>183.284013</td>\n",
       "    </tr>\n",
       "    <tr>\n",
       "      <th>2017-12-24</th>\n",
       "      <td>170.78</td>\n",
       "      <td>5.140376</td>\n",
       "      <td>183.284013</td>\n",
       "      <td>183.284013</td>\n",
       "    </tr>\n",
       "    <tr>\n",
       "      <th>2017-12-25</th>\n",
       "      <td>171.85</td>\n",
       "      <td>5.146622</td>\n",
       "      <td>183.284013</td>\n",
       "      <td>183.284013</td>\n",
       "    </tr>\n",
       "  </tbody>\n",
       "</table>\n",
       "</div>"
      ],
      "text/plain": [
       "              high  log_high    df1_mean   high_mean\n",
       "0                                                   \n",
       "2017-12-21  176.02  5.170598  183.284013  183.284013\n",
       "2017-12-22  175.42  5.167183  183.284013  183.284013\n",
       "2017-12-23  171.47  5.144408  183.284013  183.284013\n",
       "2017-12-24  170.78  5.140376  183.284013  183.284013\n",
       "2017-12-25  171.85  5.146622  183.284013  183.284013"
      ]
     },
     "execution_count": 31,
     "metadata": {},
     "output_type": "execute_result"
    }
   ],
   "source": [
    "high_mean= df1.log_high.mean()\n",
    "df1[\"high_mean\"] = np.exp(high_mean)\n",
    "df1.head()"
   ]
  },
  {
   "cell_type": "code",
   "execution_count": 30,
   "id": "d08d9bb7-2cf4-4946-9dd3-4bca92397a13",
   "metadata": {},
   "outputs": [],
   "source": [
    "def RMSE(actual, predicted):\n",
    "    mse = (actual - predicted)**2\n",
    "    rmse = np.sqrt(mse.sum()/mse.count())\n",
    "    return rmse"
   ]
  },
  {
   "cell_type": "code",
   "execution_count": 35,
   "id": "345c3c44-8761-4db9-8d67-ef0fc47fd4a8",
   "metadata": {},
   "outputs": [
    {
     "data": {
      "text/plain": [
       "70.23267275075241"
      ]
     },
     "execution_count": 35,
     "metadata": {},
     "output_type": "execute_result"
    }
   ],
   "source": [
    "mean_modelRMSE = RMSE(df1.high, df1.high_mean)\n",
    "mean_modelRMSE"
   ]
  },
  {
   "cell_type": "markdown",
   "id": "429e0fff-016f-4e2e-9622-8b535b30694a",
   "metadata": {},
   "source": [
    "### Building time series model and check the performance of the model using RMSE"
   ]
  },
  {
   "cell_type": "code",
   "execution_count": 36,
   "id": "7fc7d5fd-7999-467f-a304-753c7465bf36",
   "metadata": {},
   "outputs": [],
   "source": [
    "high_mean= df1.log_high.mean()\n",
    "df1[\"high_mean\"] = np.exp(high_mean)"
   ]
  },
  {
   "cell_type": "code",
   "execution_count": 37,
   "id": "8b1d1dc7-f457-4351-931c-460c1638e836",
   "metadata": {},
   "outputs": [
    {
     "data": {
      "text/plain": [
       "70.23267275075241"
      ]
     },
     "execution_count": 37,
     "metadata": {},
     "output_type": "execute_result"
    }
   ],
   "source": [
    "mean_modelRMSE = RMSE(df1.high, df1.high_mean)\n",
    "mean_modelRMSE"
   ]
  },
  {
   "cell_type": "code",
   "execution_count": 38,
   "id": "2f6f7f98-ad6d-488c-aaed-866d8c082886",
   "metadata": {},
   "outputs": [
    {
     "data": {
      "text/html": [
       "<div>\n",
       "<style scoped>\n",
       "    .dataframe tbody tr th:only-of-type {\n",
       "        vertical-align: middle;\n",
       "    }\n",
       "\n",
       "    .dataframe tbody tr th {\n",
       "        vertical-align: top;\n",
       "    }\n",
       "\n",
       "    .dataframe thead th {\n",
       "        text-align: right;\n",
       "    }\n",
       "</style>\n",
       "<table border=\"1\" class=\"dataframe\">\n",
       "  <thead>\n",
       "    <tr style=\"text-align: right;\">\n",
       "      <th></th>\n",
       "      <th>Model</th>\n",
       "      <th>Forcast</th>\n",
       "      <th>RMSE</th>\n",
       "    </tr>\n",
       "  </thead>\n",
       "  <tbody>\n",
       "    <tr>\n",
       "      <th>0</th>\n",
       "      <td>Mean Model</td>\n",
       "      <td>183.284013</td>\n",
       "      <td>70.232673</td>\n",
       "    </tr>\n",
       "  </tbody>\n",
       "</table>\n",
       "</div>"
      ],
      "text/plain": [
       "        Model     Forcast       RMSE\n",
       "0  Mean Model  183.284013  70.232673"
      ]
     },
     "execution_count": 38,
     "metadata": {},
     "output_type": "execute_result"
    }
   ],
   "source": [
    "Result_df = pd.DataFrame(columns =[\"Model\",\"Forcast\",\"RMSE\"])\n",
    "Result_df.loc[0,\"Model\"] = \"Mean Model\"\n",
    "Result_df.loc[0,\"Forcast\"] = np.exp(high_mean)\n",
    "Result_df.loc[0,\"RMSE\"] = mean_modelRMSE\n",
    "Result_df"
   ]
  },
  {
   "cell_type": "markdown",
   "id": "395d0b3c-0734-427a-a5ea-44d800dfeb83",
   "metadata": {},
   "source": [
    "## Plot ACF and PACF plots"
   ]
  },
  {
   "cell_type": "code",
   "execution_count": 39,
   "id": "7ed1a0ab-25f0-48de-8055-baa46869e881",
   "metadata": {},
   "outputs": [],
   "source": [
    "df1[\"shift_log_high\"] = df1.log_high.shift()\n",
    "df1[\"log_high_diff\"] = df1['log_high'] - df1['shift_log_high']\n",
    "\n",
    "\n",
    "\n",
    "ts = df1.log_high\n",
    "ts_diff = df1.log_high_diff\n",
    "ts_diff.dropna(inplace = True)"
   ]
  },
  {
   "cell_type": "code",
   "execution_count": 40,
   "id": "2678c311-75b3-4ccd-95d0-0ebce37c9aed",
   "metadata": {},
   "outputs": [
    {
     "data": {
      "text/plain": [
       "array([ 1.        ,  0.00179285, -0.02393386,  0.03124149,  0.0436276 ,\n",
       "        0.0172395 , -0.04093103, -0.00844236,  0.02707529, -0.00285525,\n",
       "       -0.02055819,  0.01739286,  0.01532931,  0.00613101,  0.01009348,\n",
       "       -0.01720355,  0.01574467, -0.00175804, -0.00650765, -0.00668716,\n",
       "       -0.02771809])"
      ]
     },
     "execution_count": 40,
     "metadata": {},
     "output_type": "execute_result"
    }
   ],
   "source": [
    "from statsmodels.tsa.stattools import acf, pacf\n",
    "lag_acf = acf(ts_diff, nlags=20)\n",
    "lag_acf"
   ]
  },
  {
   "cell_type": "code",
   "execution_count": 41,
   "id": "1c16f73a-38ed-47c3-84e7-cb5448ab14da",
   "metadata": {},
   "outputs": [
    {
     "data": {
      "image/png": "[encoded data removed]",
      "text/plain": [
       "<Figure size 1080x432 with 1 Axes>"
      ]
     },
     "metadata": {
      "needs_background": "light"
     },
     "output_type": "display_data"
    }
   ],
   "source": [
    "# ACF\n",
    "plt.figure(figsize=(15,6))\n",
    "ACF = pd.Series(lag_acf);\n",
    "ACF.plot(kind=\"bar\",color=\"blue\");"
   ]
  },
  {
   "cell_type": "code",
   "execution_count": 42,
   "id": "05f68f76-3c86-4cac-89d5-96d9ee8134fb",
   "metadata": {},
   "outputs": [
    {
     "data": {
      "image/png": "[encoded data removed]",
      "text/plain": [
       "<Figure size 1080x432 with 1 Axes>"
      ]
     },
     "metadata": {
      "needs_background": "light"
     },
     "output_type": "display_data"
    }
   ],
   "source": [
    "# PACF\n",
    "plt.figure(figsize=(15,6))\n",
    "lag_pacf = pacf(ts_diff, nlags=20, method='ols');\n",
    "PACF = pd.Series(lag_pacf);\n",
    "PACF.plot(kind=\"bar\", color=\"blue\");"
   ]
  },
  {
   "cell_type": "code",
   "execution_count": 44,
   "id": "481fbade-21bd-428d-ae22-9cb505cbdb9d",
   "metadata": {},
   "outputs": [],
   "source": [
    "from statsmodels.tsa.seasonal import seasonal_decompose\n",
    "rv_seasonal=seasonal_decompose(df1['high'],period=12)  "
   ]
  },
  {
   "cell_type": "code",
   "execution_count": 45,
   "id": "3975e525-72e6-4bca-b376-aa3d29bf0a43",
   "metadata": {},
   "outputs": [
    {
     "data": {
      "image/png": "[encoded data removed]",
      "text/plain": [
       "<Figure size 432x288 with 4 Axes>"
      ]
     },
     "metadata": {
      "needs_background": "light"
     },
     "output_type": "display_data"
    }
   ],
   "source": [
    "rv_seasonal.plot();"
   ]
  },
  {
   "cell_type": "markdown",
   "id": "8f456d15-2965-43ac-916a-e4d9602120c5",
   "metadata": {},
   "source": [
    "####  sequential sampling"
   ]
  },
  {
   "cell_type": "code",
   "execution_count": 46,
   "id": "89e2f007-9ffc-4246-94f4-cdcf20701207",
   "metadata": {},
   "outputs": [],
   "source": [
    "train=df1.high[0:-24]\n",
    "test=df1.high[-24:]"
   ]
  },
  {
   "cell_type": "code",
   "execution_count": 47,
   "id": "a70f0cb6-7c5c-4d88-abfc-54d8cf3d4bcf",
   "metadata": {},
   "outputs": [
    {
     "data": {
      "text/plain": [
       "0\n",
       "2021-05-07    153.59\n",
       "2021-05-08    149.87\n",
       "2021-05-09    151.48\n",
       "2021-05-10    152.70\n",
       "2021-05-11    150.37\n",
       "Name: high, dtype: float64"
      ]
     },
     "execution_count": 47,
     "metadata": {},
     "output_type": "execute_result"
    }
   ],
   "source": [
    "test.head()"
   ]
  },
  {
   "cell_type": "code",
   "execution_count": 48,
   "id": "b74af16b-9663-4e86-9360-45b95f25fa65",
   "metadata": {},
   "outputs": [],
   "source": [
    "train_log=np.log(train)"
   ]
  },
  {
   "cell_type": "markdown",
   "id": "ea7c879b-87f8-47ae-af1b-0cf25eec1db3",
   "metadata": {},
   "source": [
    "#### ARIMA"
   ]
  },
  {
   "cell_type": "code",
   "execution_count": 49,
   "id": "8edbfef6-1f33-4893-98fd-ca5f2ed70dd0",
   "metadata": {},
   "outputs": [
    {
     "data": {
      "text/plain": [
       "ARIMA(order=(0, 1, 0), scoring_args={}, seasonal_order=(0, 0, 0, 24),\n",
       "      suppress_warnings=True, with_intercept=False)"
      ]
     },
     "execution_count": 49,
     "metadata": {},
     "output_type": "execute_result"
    }
   ],
   "source": [
    "from pmdarima import auto_arima\n",
    "auto_arima(train_log,seasonal=True,m=24)"
   ]
  },
  {
   "cell_type": "markdown",
   "id": "a3213733-e903-4ffc-a8fe-650e88bdc5bb",
   "metadata": {},
   "source": [
    "#### SARIMAX"
   ]
  },
  {
   "cell_type": "code",
   "execution_count": 52,
   "id": "c78b14ea-ecc3-44d3-88af-d239e5883ec8",
   "metadata": {},
   "outputs": [
    {
     "name": "stderr",
     "output_type": "stream",
     "text": [
      "C:\\Users\\Yashwant\\anaconda3\\lib\\site-packages\\statsmodels\\tsa\\base\\tsa_model.py:471: ValueWarning: No frequency information was provided, so inferred frequency D will be used.\n",
      "  self._init_dates(dates, freq)\n",
      "C:\\Users\\Yashwant\\anaconda3\\lib\\site-packages\\statsmodels\\tsa\\base\\tsa_model.py:471: ValueWarning: No frequency information was provided, so inferred frequency D will be used.\n",
      "  self._init_dates(dates, freq)\n"
     ]
    }
   ],
   "source": [
    "from statsmodels.tsa.statespace.sarimax import SARIMAX\n",
    "model = SARIMAX(train_log, order=(0,1,0), seasonal_order=(0,0,0,24))"
   ]
  },
  {
   "cell_type": "code",
   "execution_count": 53,
   "id": "d9e56ef1-631a-4f35-8aa4-a57139679ec2",
   "metadata": {},
   "outputs": [],
   "source": [
    "results = model.fit()"
   ]
  },
  {
   "cell_type": "code",
   "execution_count": 54,
   "id": "4e433bae-37b3-45a2-a604-1dfcc7be8f44",
   "metadata": {},
   "outputs": [
    {
     "data": {
      "text/plain": [
       "2021-05-07    5.0125\n",
       "2021-05-08    5.0125\n",
       "2021-05-09    5.0125\n",
       "2021-05-10    5.0125\n",
       "2021-05-11    5.0125\n",
       "2021-05-12    5.0125\n",
       "2021-05-13    5.0125\n",
       "2021-05-14    5.0125\n",
       "2021-05-15    5.0125\n",
       "2021-05-16    5.0125\n",
       "2021-05-17    5.0125\n",
       "2021-05-18    5.0125\n",
       "2021-05-19    5.0125\n",
       "2021-05-20    5.0125\n",
       "2021-05-21    5.0125\n",
       "2021-05-22    5.0125\n",
       "2021-05-23    5.0125\n",
       "2021-05-24    5.0125\n",
       "2021-05-25    5.0125\n",
       "2021-05-26    5.0125\n",
       "2021-05-27    5.0125\n",
       "2021-05-28    5.0125\n",
       "2021-05-29    5.0125\n",
       "2021-05-30    5.0125\n",
       "Freq: D, Name: predicted_mean, dtype: float64"
      ]
     },
     "execution_count": 54,
     "metadata": {},
     "output_type": "execute_result"
    }
   ],
   "source": [
    "pred = results.forecast(steps=24)\n",
    "pred"
   ]
  },
  {
   "cell_type": "code",
   "execution_count": 56,
   "id": "4e00b77f-71dc-46ed-93ea-c66f22fd7e85",
   "metadata": {},
   "outputs": [],
   "source": [
    "pred = np.exp(pred)"
   ]
  },
  {
   "cell_type": "code",
   "execution_count": 57,
   "id": "10c4cf41-6109-4b16-8f15-6f70f1602539",
   "metadata": {},
   "outputs": [
    {
     "data": {
      "text/plain": [
       "DatetimeIndex(['2021-05-07', '2021-05-08', '2021-05-09', '2021-05-10',\n",
       "               '2021-05-11', '2021-05-12', '2021-05-13', '2021-05-14',\n",
       "               '2021-05-15', '2021-05-16', '2021-05-17', '2021-05-18',\n",
       "               '2021-05-19', '2021-05-20', '2021-05-21', '2021-05-22',\n",
       "               '2021-05-23', '2021-05-24', '2021-05-25', '2021-05-26',\n",
       "               '2021-05-27', '2021-05-28', '2021-05-29', '2021-05-30'],\n",
       "              dtype='datetime64[ns]', freq='D')"
      ]
     },
     "execution_count": 57,
     "metadata": {},
     "output_type": "execute_result"
    }
   ],
   "source": [
    "pred.index"
   ]
  },
  {
   "cell_type": "code",
   "execution_count": 58,
   "id": "015fe000-c34c-41ce-b0eb-db7816e2718c",
   "metadata": {},
   "outputs": [
    {
     "data": {
      "text/plain": [
       "24"
      ]
     },
     "execution_count": 58,
     "metadata": {},
     "output_type": "execute_result"
    }
   ],
   "source": [
    "len(pred)"
   ]
  },
  {
   "cell_type": "code",
   "execution_count": 59,
   "id": "d4a99706-eeb4-421b-b515-144c5618df0f",
   "metadata": {},
   "outputs": [
    {
     "data": {
      "text/html": [
       "<div>\n",
       "<style scoped>\n",
       "    .dataframe tbody tr th:only-of-type {\n",
       "        vertical-align: middle;\n",
       "    }\n",
       "\n",
       "    .dataframe tbody tr th {\n",
       "        vertical-align: top;\n",
       "    }\n",
       "\n",
       "    .dataframe thead th {\n",
       "        text-align: right;\n",
       "    }\n",
       "</style>\n",
       "<table border=\"1\" class=\"dataframe\">\n",
       "  <thead>\n",
       "    <tr style=\"text-align: right;\">\n",
       "      <th></th>\n",
       "      <th>pred</th>\n",
       "    </tr>\n",
       "    <tr>\n",
       "      <th>date</th>\n",
       "      <th></th>\n",
       "    </tr>\n",
       "  </thead>\n",
       "  <tbody>\n",
       "    <tr>\n",
       "      <th>2021-05-07</th>\n",
       "      <td>1.844059e+65</td>\n",
       "    </tr>\n",
       "    <tr>\n",
       "      <th>2021-05-08</th>\n",
       "      <td>1.844059e+65</td>\n",
       "    </tr>\n",
       "    <tr>\n",
       "      <th>2021-05-09</th>\n",
       "      <td>1.844059e+65</td>\n",
       "    </tr>\n",
       "    <tr>\n",
       "      <th>2021-05-10</th>\n",
       "      <td>1.844059e+65</td>\n",
       "    </tr>\n",
       "    <tr>\n",
       "      <th>2021-05-11</th>\n",
       "      <td>1.844059e+65</td>\n",
       "    </tr>\n",
       "    <tr>\n",
       "      <th>2021-05-12</th>\n",
       "      <td>1.844059e+65</td>\n",
       "    </tr>\n",
       "    <tr>\n",
       "      <th>2021-05-13</th>\n",
       "      <td>1.844059e+65</td>\n",
       "    </tr>\n",
       "    <tr>\n",
       "      <th>2021-05-14</th>\n",
       "      <td>1.844059e+65</td>\n",
       "    </tr>\n",
       "    <tr>\n",
       "      <th>2021-05-15</th>\n",
       "      <td>1.844059e+65</td>\n",
       "    </tr>\n",
       "    <tr>\n",
       "      <th>2021-05-16</th>\n",
       "      <td>1.844059e+65</td>\n",
       "    </tr>\n",
       "    <tr>\n",
       "      <th>2021-05-17</th>\n",
       "      <td>1.844059e+65</td>\n",
       "    </tr>\n",
       "    <tr>\n",
       "      <th>2021-05-18</th>\n",
       "      <td>1.844059e+65</td>\n",
       "    </tr>\n",
       "    <tr>\n",
       "      <th>2021-05-19</th>\n",
       "      <td>1.844059e+65</td>\n",
       "    </tr>\n",
       "    <tr>\n",
       "      <th>2021-05-20</th>\n",
       "      <td>1.844059e+65</td>\n",
       "    </tr>\n",
       "    <tr>\n",
       "      <th>2021-05-21</th>\n",
       "      <td>1.844059e+65</td>\n",
       "    </tr>\n",
       "    <tr>\n",
       "      <th>2021-05-22</th>\n",
       "      <td>1.844059e+65</td>\n",
       "    </tr>\n",
       "    <tr>\n",
       "      <th>2021-05-23</th>\n",
       "      <td>1.844059e+65</td>\n",
       "    </tr>\n",
       "    <tr>\n",
       "      <th>2021-05-24</th>\n",
       "      <td>1.844059e+65</td>\n",
       "    </tr>\n",
       "    <tr>\n",
       "      <th>2021-05-25</th>\n",
       "      <td>1.844059e+65</td>\n",
       "    </tr>\n",
       "    <tr>\n",
       "      <th>2021-05-26</th>\n",
       "      <td>1.844059e+65</td>\n",
       "    </tr>\n",
       "    <tr>\n",
       "      <th>2021-05-27</th>\n",
       "      <td>1.844059e+65</td>\n",
       "    </tr>\n",
       "    <tr>\n",
       "      <th>2021-05-28</th>\n",
       "      <td>1.844059e+65</td>\n",
       "    </tr>\n",
       "    <tr>\n",
       "      <th>2021-05-29</th>\n",
       "      <td>1.844059e+65</td>\n",
       "    </tr>\n",
       "    <tr>\n",
       "      <th>2021-05-30</th>\n",
       "      <td>1.844059e+65</td>\n",
       "    </tr>\n",
       "  </tbody>\n",
       "</table>\n",
       "</div>"
      ],
      "text/plain": [
       "                    pred\n",
       "date                    \n",
       "2021-05-07  1.844059e+65\n",
       "2021-05-08  1.844059e+65\n",
       "2021-05-09  1.844059e+65\n",
       "2021-05-10  1.844059e+65\n",
       "2021-05-11  1.844059e+65\n",
       "2021-05-12  1.844059e+65\n",
       "2021-05-13  1.844059e+65\n",
       "2021-05-14  1.844059e+65\n",
       "2021-05-15  1.844059e+65\n",
       "2021-05-16  1.844059e+65\n",
       "2021-05-17  1.844059e+65\n",
       "2021-05-18  1.844059e+65\n",
       "2021-05-19  1.844059e+65\n",
       "2021-05-20  1.844059e+65\n",
       "2021-05-21  1.844059e+65\n",
       "2021-05-22  1.844059e+65\n",
       "2021-05-23  1.844059e+65\n",
       "2021-05-24  1.844059e+65\n",
       "2021-05-25  1.844059e+65\n",
       "2021-05-26  1.844059e+65\n",
       "2021-05-27  1.844059e+65\n",
       "2021-05-28  1.844059e+65\n",
       "2021-05-29  1.844059e+65\n",
       "2021-05-30  1.844059e+65"
      ]
     },
     "execution_count": 59,
     "metadata": {},
     "output_type": "execute_result"
    }
   ],
   "source": [
    "forcast = pd.DataFrame({'pred':pred})\n",
    "forcast['date'] = test.index\n",
    "forcast.date = pd.to_datetime(forcast.date, infer_datetime_format=True)\n",
    "forcast = forcast.set_index(['date'])\n",
    "forcast"
   ]
  },
  {
   "cell_type": "code",
   "execution_count": 60,
   "id": "91dd2f5b-d992-4101-bfd6-efdb4c858042",
   "metadata": {},
   "outputs": [
    {
     "data": {
      "text/html": [
       "<div>\n",
       "<style scoped>\n",
       "    .dataframe tbody tr th:only-of-type {\n",
       "        vertical-align: middle;\n",
       "    }\n",
       "\n",
       "    .dataframe tbody tr th {\n",
       "        vertical-align: top;\n",
       "    }\n",
       "\n",
       "    .dataframe thead th {\n",
       "        text-align: right;\n",
       "    }\n",
       "</style>\n",
       "<table border=\"1\" class=\"dataframe\">\n",
       "  <thead>\n",
       "    <tr style=\"text-align: right;\">\n",
       "      <th></th>\n",
       "      <th>train</th>\n",
       "    </tr>\n",
       "    <tr>\n",
       "      <th>date</th>\n",
       "      <th></th>\n",
       "    </tr>\n",
       "  </thead>\n",
       "  <tbody>\n",
       "    <tr>\n",
       "      <th>2017-12-21</th>\n",
       "      <td>176.02</td>\n",
       "    </tr>\n",
       "    <tr>\n",
       "      <th>2017-12-22</th>\n",
       "      <td>175.42</td>\n",
       "    </tr>\n",
       "    <tr>\n",
       "      <th>2017-12-23</th>\n",
       "      <td>171.47</td>\n",
       "    </tr>\n",
       "    <tr>\n",
       "      <th>2017-12-24</th>\n",
       "      <td>170.78</td>\n",
       "    </tr>\n",
       "    <tr>\n",
       "      <th>2017-12-25</th>\n",
       "      <td>171.85</td>\n",
       "    </tr>\n",
       "    <tr>\n",
       "      <th>...</th>\n",
       "      <td>...</td>\n",
       "    </tr>\n",
       "    <tr>\n",
       "      <th>2021-05-02</th>\n",
       "      <td>141.43</td>\n",
       "    </tr>\n",
       "    <tr>\n",
       "      <th>2021-05-03</th>\n",
       "      <td>138.55</td>\n",
       "    </tr>\n",
       "    <tr>\n",
       "      <th>2021-05-04</th>\n",
       "      <td>146.87</td>\n",
       "    </tr>\n",
       "    <tr>\n",
       "      <th>2021-05-05</th>\n",
       "      <td>150.01</td>\n",
       "    </tr>\n",
       "    <tr>\n",
       "      <th>2021-05-06</th>\n",
       "      <td>150.28</td>\n",
       "    </tr>\n",
       "  </tbody>\n",
       "</table>\n",
       "<p>1233 rows × 1 columns</p>\n",
       "</div>"
      ],
      "text/plain": [
       "             train\n",
       "date              \n",
       "2017-12-21  176.02\n",
       "2017-12-22  175.42\n",
       "2017-12-23  171.47\n",
       "2017-12-24  170.78\n",
       "2017-12-25  171.85\n",
       "...            ...\n",
       "2021-05-02  141.43\n",
       "2021-05-03  138.55\n",
       "2021-05-04  146.87\n",
       "2021-05-05  150.01\n",
       "2021-05-06  150.28\n",
       "\n",
       "[1233 rows x 1 columns]"
      ]
     },
     "execution_count": 60,
     "metadata": {},
     "output_type": "execute_result"
    }
   ],
   "source": [
    "forcast_train = pd.DataFrame({'train':train})\n",
    "forcast_train['date'] = train.index\n",
    "forcast_train.date = pd.to_datetime(forcast_train.date, infer_datetime_format=True)\n",
    "forcast_train = forcast_train.set_index(['date'])\n",
    "forcast_train"
   ]
  },
  {
   "cell_type": "code",
   "execution_count": 61,
   "id": "b35cc378-328f-4196-9124-86df147a3e7f",
   "metadata": {},
   "outputs": [
    {
     "data": {
      "text/html": [
       "<div>\n",
       "<style scoped>\n",
       "    .dataframe tbody tr th:only-of-type {\n",
       "        vertical-align: middle;\n",
       "    }\n",
       "\n",
       "    .dataframe tbody tr th {\n",
       "        vertical-align: top;\n",
       "    }\n",
       "\n",
       "    .dataframe thead th {\n",
       "        text-align: right;\n",
       "    }\n",
       "</style>\n",
       "<table border=\"1\" class=\"dataframe\">\n",
       "  <thead>\n",
       "    <tr style=\"text-align: right;\">\n",
       "      <th></th>\n",
       "      <th>Test</th>\n",
       "    </tr>\n",
       "    <tr>\n",
       "      <th>date</th>\n",
       "      <th></th>\n",
       "    </tr>\n",
       "  </thead>\n",
       "  <tbody>\n",
       "    <tr>\n",
       "      <th>2021-05-07</th>\n",
       "      <td>153.5900</td>\n",
       "    </tr>\n",
       "    <tr>\n",
       "      <th>2021-05-08</th>\n",
       "      <td>149.8700</td>\n",
       "    </tr>\n",
       "    <tr>\n",
       "      <th>2021-05-09</th>\n",
       "      <td>151.4800</td>\n",
       "    </tr>\n",
       "    <tr>\n",
       "      <th>2021-05-10</th>\n",
       "      <td>152.7000</td>\n",
       "    </tr>\n",
       "    <tr>\n",
       "      <th>2021-05-11</th>\n",
       "      <td>150.3700</td>\n",
       "    </tr>\n",
       "    <tr>\n",
       "      <th>2021-05-12</th>\n",
       "      <td>150.4200</td>\n",
       "    </tr>\n",
       "    <tr>\n",
       "      <th>2021-05-13</th>\n",
       "      <td>151.8300</td>\n",
       "    </tr>\n",
       "    <tr>\n",
       "      <th>2021-05-14</th>\n",
       "      <td>148.8800</td>\n",
       "    </tr>\n",
       "    <tr>\n",
       "      <th>2021-05-15</th>\n",
       "      <td>146.6400</td>\n",
       "    </tr>\n",
       "    <tr>\n",
       "      <th>2021-05-16</th>\n",
       "      <td>144.8100</td>\n",
       "    </tr>\n",
       "    <tr>\n",
       "      <th>2021-05-17</th>\n",
       "      <td>148.7200</td>\n",
       "    </tr>\n",
       "    <tr>\n",
       "      <th>2021-05-18</th>\n",
       "      <td>149.1300</td>\n",
       "    </tr>\n",
       "    <tr>\n",
       "      <th>2021-05-19</th>\n",
       "      <td>148.0000</td>\n",
       "    </tr>\n",
       "    <tr>\n",
       "      <th>2021-05-20</th>\n",
       "      <td>150.9199</td>\n",
       "    </tr>\n",
       "    <tr>\n",
       "      <th>2021-05-21</th>\n",
       "      <td>147.3000</td>\n",
       "    </tr>\n",
       "    <tr>\n",
       "      <th>2021-05-22</th>\n",
       "      <td>143.3700</td>\n",
       "    </tr>\n",
       "    <tr>\n",
       "      <th>2021-05-23</th>\n",
       "      <td>143.5200</td>\n",
       "    </tr>\n",
       "    <tr>\n",
       "      <th>2021-05-24</th>\n",
       "      <td>145.5700</td>\n",
       "    </tr>\n",
       "    <tr>\n",
       "      <th>2021-05-25</th>\n",
       "      <td>144.5000</td>\n",
       "    </tr>\n",
       "    <tr>\n",
       "      <th>2021-05-26</th>\n",
       "      <td>149.9692</td>\n",
       "    </tr>\n",
       "    <tr>\n",
       "      <th>2021-05-27</th>\n",
       "      <td>146.6550</td>\n",
       "    </tr>\n",
       "    <tr>\n",
       "      <th>2021-05-28</th>\n",
       "      <td>141.8000</td>\n",
       "    </tr>\n",
       "    <tr>\n",
       "      <th>2021-05-29</th>\n",
       "      <td>137.6500</td>\n",
       "    </tr>\n",
       "    <tr>\n",
       "      <th>2021-05-30</th>\n",
       "      <td>135.2000</td>\n",
       "    </tr>\n",
       "  </tbody>\n",
       "</table>\n",
       "</div>"
      ],
      "text/plain": [
       "                Test\n",
       "date                \n",
       "2021-05-07  153.5900\n",
       "2021-05-08  149.8700\n",
       "2021-05-09  151.4800\n",
       "2021-05-10  152.7000\n",
       "2021-05-11  150.3700\n",
       "2021-05-12  150.4200\n",
       "2021-05-13  151.8300\n",
       "2021-05-14  148.8800\n",
       "2021-05-15  146.6400\n",
       "2021-05-16  144.8100\n",
       "2021-05-17  148.7200\n",
       "2021-05-18  149.1300\n",
       "2021-05-19  148.0000\n",
       "2021-05-20  150.9199\n",
       "2021-05-21  147.3000\n",
       "2021-05-22  143.3700\n",
       "2021-05-23  143.5200\n",
       "2021-05-24  145.5700\n",
       "2021-05-25  144.5000\n",
       "2021-05-26  149.9692\n",
       "2021-05-27  146.6550\n",
       "2021-05-28  141.8000\n",
       "2021-05-29  137.6500\n",
       "2021-05-30  135.2000"
      ]
     },
     "execution_count": 61,
     "metadata": {},
     "output_type": "execute_result"
    }
   ],
   "source": [
    "forcast_test = pd.DataFrame({'Test':test})\n",
    "forcast_test['date'] = test.index\n",
    "forcast_test.date = pd.to_datetime(forcast_test.date, infer_datetime_format=True)\n",
    "forcast_test = forcast_test.set_index(['date'])\n",
    "forcast_test"
   ]
  },
  {
   "cell_type": "markdown",
   "id": "a813df9b-ea04-41d6-a7f3-076335e6fb83",
   "metadata": {},
   "source": [
    "## THANK YOU!"
   ]
  }
 ],
 "metadata": {
  "kernelspec": {
   "display_name": "Python 3 (ipykernel)",
   "language": "python",
   "name": "python3"
  },
  "language_info": {
   "codemirror_mode": {
    "name": "ipython",
    "version": 3
   },
   "file_extension": ".py",
   "mimetype": "text/x-python",
   "name": "python",
   "nbconvert_exporter": "python",
   "pygments_lexer": "ipython3",
   "version": "3.9.12"
  }
 },
 "nbformat": 4,
 "nbformat_minor": 5
}
